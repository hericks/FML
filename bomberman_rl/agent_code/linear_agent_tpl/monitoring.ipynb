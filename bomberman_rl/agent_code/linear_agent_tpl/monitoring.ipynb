{
 "cells": [
  {
   "cell_type": "code",
   "execution_count": null,
   "metadata": {},
   "outputs": [],
   "source": [
    "import matplotlib.pyplot as plt\n",
    "import numpy as np\n",
    "import pickle\n",
    "import glob\n",
    "import os"
   ]
  },
  {
   "cell_type": "code",
   "execution_count": null,
   "metadata": {},
   "outputs": [],
   "source": [
    "def plotHistory(historyName):\n",
    "    history = pickle.load(open(\"histories/\" + historyName, \"rb\"))\n",
    "    \n",
    "    numInvalidActions = np.array(history['numInvalidActions'])\n",
    "    numCoinsCollected = np.array(history['numCoinsCollected'])\n",
    "    roundLength = np.array(history['roundLength'])\n",
    "    numEpisodes = len(numInvalidActions)\n",
    "    \n",
    "    fig = plt.figure(figsize=(20,5))\n",
    "\n",
    "    plt.subplot(1, 3, 1)\n",
    "    plt.plot(np.arange(numEpisodes), numInvalidActions, label=\"#invalid\", color=\"red\")\n",
    "    plt.hlines(np.min(numInvalidActions), 0, numEpisodes, colors='green', linestyles='dashed', label=f\"min @{np.min(numInvalidActions)}\",)\n",
    "    plt.legend(loc=1)\n",
    "\n",
    "    plt.subplot(1, 3, 2)\n",
    "    plt.plot(np.arange(numEpisodes), numCoinsCollected, label=\"#coins\", color=\"gold\")\n",
    "    plt.hlines(np.max(numCoinsCollected), 0, numEpisodes, colors='red', linestyles='dashed', label=f\"max @{np.max(numCoinsCollected)}\",)\n",
    "    plt.legend(loc=4)\n",
    "    \n",
    "    plt.subplot(1, 3, 3)\n",
    "    plt.plot(np.arange(numEpisodes), roundLength, label=\"#steps\", color=\"green\")\n",
    "    plt.hlines(np.min(roundLength), 0, numEpisodes, colors='green', linestyles='dashed', label=f\"min @{np.min(roundLength)}\",)\n",
    "    plt.legend(loc=4)\n",
    "\n",
    "    plt.show()"
   ]
  },
  {
   "cell_type": "code",
   "execution_count": null,
   "metadata": {},
   "outputs": [],
   "source": [
    "def plotAverageHistory(folderName):\n",
    "    histories = [pickle.load(open(historyPath, \"rb\")) for historyPath in glob.glob(f'{folderName}/*.pt')]\n",
    "    \n",
    "    numInvalidActions = np.stack([np.array(history['numInvalidActions']) for history in histories])\n",
    "    numCoinsCollected = np.stack([np.array(history['numCoinsCollected']) for history in histories])\n",
    "    roundLength = np.stack([np.array(history['roundLength']) for history in histories])\n",
    "    numEpisodes = len(numInvalidActions[0,:])\n",
    "    \n",
    "    print(f\"Create plot using {numInvalidActions.shape[0]} histories.\")\n",
    "    \n",
    "    fig = plt.figure(figsize=(20,5))\n",
    "    \n",
    "    stdNumInvalidActions = np.std(numInvalidActions, axis=0)\n",
    "    meanNumInvalidActions = np.mean(numInvalidActions, axis=0)\n",
    "    \n",
    "    plt.subplot(1, 3, 1)\n",
    "    plt.plot(np.arange(numEpisodes), meanNumInvalidActions + stdNumInvalidActions, color=\"red\", alpha = 0.1)\n",
    "    plt.plot(np.arange(numEpisodes), meanNumInvalidActions, label=\"#invalid\", color=\"red\")\n",
    "    plt.plot(np.arange(numEpisodes), meanNumInvalidActions - stdNumInvalidActions, color=\"red\", alpha = 0.1)\n",
    "    plt.legend(loc=1)\n",
    "    \n",
    "    stdNumCoinsCollected = np.std(numCoinsCollected, axis=0)\n",
    "    meanNumCoinsCollected = np.mean(numCoinsCollected, axis=0)\n",
    "\n",
    "    plt.subplot(1, 3, 2)\n",
    "    plt.plot(np.arange(numEpisodes), meanNumCoinsCollected + stdNumCoinsCollected, color = \"gold\", alpha = 0.3)\n",
    "    plt.plot(np.arange(numEpisodes), meanNumCoinsCollected, label=\"#coins\", color=\"gold\")\n",
    "    plt.plot(np.arange(numEpisodes), meanNumCoinsCollected - stdNumCoinsCollected, color = \"gold\", alpha = 0.3)\n",
    "    plt.hlines(np.max(meanNumCoinsCollected), 0, numEpisodes, colors='green', linestyles='dashed', label=f\"max @{np.round(np.max(meanNumCoinsCollected))}\")\n",
    "    plt.legend(loc=4)\n",
    "    \n",
    "    stdRoundLength = np.std(roundLength, axis=0)\n",
    "    meanRoundLength = np.mean(roundLength, axis=0)\n",
    "    \n",
    "    plt.subplot(1, 3, 3)\n",
    "    plt.plot(np.arange(numEpisodes), meanRoundLength + stdRoundLength, color = \"green\", alpha = 0.3)\n",
    "    plt.plot(np.arange(numEpisodes), meanRoundLength, label=\"#steps\", color=\"green\")\n",
    "    plt.plot(np.arange(numEpisodes), meanRoundLength - stdRoundLength, color = \"green\", alpha = 0.3)\n",
    "    plt.hlines(np.min(meanRoundLength), 0, numEpisodes, colors='green', linestyles='dashed', label=f\"min @{np.round(np.min(meanRoundLength))}\")\n",
    "    plt.legend(loc=4)\n",
    "\n",
    "    plt.show()"
   ]
  },
  {
   "cell_type": "code",
   "execution_count": null,
   "metadata": {},
   "outputs": [],
   "source": [
    "def plotLatestHistory():\n",
    "    list_of_histories = glob.glob('histories/*.pt')\n",
    "    latest_history_name = max(list_of_histories, key=os.path.getctime)\n",
    "    plotHistory(os.path.basename(latest_history_name))"
   ]
  },
  {
   "cell_type": "markdown",
   "metadata": {},
   "source": [
    "#### Unoptimized training"
   ]
  },
  {
   "cell_type": "code",
   "execution_count": null,
   "metadata": {},
   "outputs": [],
   "source": [
    "plotAverageHistory(\"histories/linear_agent_4_look_around_without_mirroring\")"
   ]
  },
  {
   "cell_type": "markdown",
   "metadata": {},
   "source": [
    "#### Training when exploiting 2 spatial symmetries"
   ]
  },
  {
   "cell_type": "code",
   "execution_count": null,
   "metadata": {},
   "outputs": [],
   "source": [
    "plotAverageHistory(\"histories/linear_agent_4_look_around_with_mirroring\")"
   ]
  },
  {
   "cell_type": "markdown",
   "metadata": {},
   "source": [
    "#### Training when exploiting 2 spatial symmetries and unique coin identification"
   ]
  },
  {
   "cell_type": "code",
   "execution_count": null,
   "metadata": {},
   "outputs": [],
   "source": [
    "plotAverageHistory(\"histories/linear_agent_4_look_around_with_mirroring_unique_coin_identifiers\")"
   ]
  },
  {
   "cell_type": "markdown",
   "metadata": {},
   "source": [
    "#### Training when exploiting 3 spatial symmetries and unique coin identification"
   ]
  },
  {
   "cell_type": "code",
   "execution_count": null,
   "metadata": {},
   "outputs": [],
   "source": [
    "plotAverageHistory(\"histories/linear_agent_4_look_around_with_extensive_mirroring_unique_coin_identifiers\")"
   ]
  },
  {
   "cell_type": "markdown",
   "metadata": {},
   "source": [
    "#### Training when exploiting 2 spatial symmetries and unique coin identification (more data, shorter interval)"
   ]
  },
  {
   "cell_type": "code",
   "execution_count": null,
   "metadata": {},
   "outputs": [],
   "source": [
    "plotAverageHistory(\"histories/linear_agent_4_look_around_with_mirroring_unique_coin_identifiers_75\")"
   ]
  },
  {
   "cell_type": "markdown",
   "metadata": {},
   "source": [
    "#### Training when exploiting 3 spatial symmetries and unique coin identification (more data, shorter interval)"
   ]
  },
  {
   "cell_type": "code",
   "execution_count": null,
   "metadata": {},
   "outputs": [],
   "source": [
    "plotAverageHistory(\"histories/linear_agent_4_look_around_with_extensive_mirroring_unique_coin_identifiers_75\")"
   ]
  },
  {
   "cell_type": "markdown",
   "metadata": {},
   "source": [
    "From now on, we well restrict ourselves to the case where we exploit 3 spatial symmetries and use unique coin identification. We will vary the look around horizon in the next simulation study. "
   ]
  },
  {
   "cell_type": "markdown",
   "metadata": {},
   "source": [
    "## Varying Look around"
   ]
  },
  {
   "cell_type": "markdown",
   "metadata": {},
   "source": [
    "#### 3 blocks look around"
   ]
  },
  {
   "cell_type": "code",
   "execution_count": null,
   "metadata": {},
   "outputs": [],
   "source": [
    "plotAverageHistory(\"histories/linear_agent_3_look_around\")"
   ]
  },
  {
   "cell_type": "markdown",
   "metadata": {},
   "source": [
    "#### 4 blocks look around (from last testing session)"
   ]
  },
  {
   "cell_type": "code",
   "execution_count": null,
   "metadata": {},
   "outputs": [],
   "source": [
    "plotAverageHistory(\"histories/linear_agent_4_look_around_with_extensive_mirroring_unique_coin_identifiers\")"
   ]
  },
  {
   "cell_type": "markdown",
   "metadata": {},
   "source": [
    "#### 5 blocks look around"
   ]
  },
  {
   "cell_type": "code",
   "execution_count": null,
   "metadata": {},
   "outputs": [],
   "source": [
    "plotAverageHistory(\"histories/linear_agent_5_look_around\")"
   ]
  },
  {
   "cell_type": "markdown",
   "metadata": {},
   "source": [
    "#### 15 blocks look around (full look around)"
   ]
  },
  {
   "cell_type": "code",
   "execution_count": null,
   "metadata": {},
   "outputs": [],
   "source": [
    "plotAverageHistory(\"histories/linear_agent_15_look_around\")"
   ]
  },
  {
   "cell_type": "markdown",
   "metadata": {},
   "source": [
    "## Varying the discount factor"
   ]
  },
  {
   "cell_type": "markdown",
   "metadata": {},
   "source": [
    "#### Discount factor: 0.995"
   ]
  },
  {
   "cell_type": "code",
   "execution_count": null,
   "metadata": {},
   "outputs": [],
   "source": [
    "plotAverageHistory(\"histories/linear_agent_4_look_around_with_extensive_mirroring_unique_coin_identifiers\")"
   ]
  },
  {
   "cell_type": "markdown",
   "metadata": {},
   "source": [
    "#### Discount factor: 0.95"
   ]
  },
  {
   "cell_type": "code",
   "execution_count": null,
   "metadata": {},
   "outputs": [],
   "source": [
    "plotAverageHistory(\"histories/linear_agent_4_look_around_disc=0.96\")"
   ]
  },
  {
   "cell_type": "markdown",
   "metadata": {},
   "source": [
    "#### Discount factor: 0.8"
   ]
  },
  {
   "cell_type": "code",
   "execution_count": null,
   "metadata": {},
   "outputs": [],
   "source": [
    "plotAverageHistory(\"histories/linear_agent_4_look_around_disc=0.8\")"
   ]
  },
  {
   "cell_type": "markdown",
   "metadata": {},
   "source": [
    "#### Discount factor: 0.7"
   ]
  },
  {
   "cell_type": "code",
   "execution_count": null,
   "metadata": {},
   "outputs": [],
   "source": [
    "plotAverageHistory(\"histories/linear_agent_4_look_around_disc=0.7\")"
   ]
  },
  {
   "cell_type": "code",
   "execution_count": null,
   "metadata": {},
   "outputs": [],
   "source": []
  }
 ],
 "metadata": {
  "kernelspec": {
   "display_name": "Python 3",
   "language": "python",
   "name": "python3"
  },
  "language_info": {
   "codemirror_mode": {
    "name": "ipython",
    "version": 3
   },
   "file_extension": ".py",
   "mimetype": "text/x-python",
   "name": "python",
   "nbconvert_exporter": "python",
   "pygments_lexer": "ipython3",
   "version": "3.8.5"
  }
 },
 "nbformat": 4,
 "nbformat_minor": 4
}
