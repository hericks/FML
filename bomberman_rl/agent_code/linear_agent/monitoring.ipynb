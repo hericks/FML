{
 "cells": [
  {
   "cell_type": "code",
   "execution_count": 1,
   "metadata": {},
   "outputs": [],
   "source": [
    "import matplotlib.pyplot as plt\n",
    "import numpy as np\n",
    "import pickle\n",
    "import glob\n",
    "import os"
   ]
  },
  {
   "cell_type": "code",
   "execution_count": 62,
   "metadata": {},
   "outputs": [],
   "source": [
    "def plotHistory(historyName):\n",
    "    history = pickle.load(open(\"histories/\" + historyName, \"rb\"))\n",
    "    \n",
    "    numInvalidActions = np.array(history['numInvalidActions'])\n",
    "    numCoinsCollected = np.array(history['numCoinsCollected'])\n",
    "    roundLength = np.array(history['roundLength'])\n",
    "    numEpisodes = len(numInvalidActions)\n",
    "    \n",
    "    fig = plt.figure(figsize=(20,5))\n",
    "\n",
    "    plt.subplot(1, 3, 1)\n",
    "    plt.plot(np.arange(numEpisodes), numInvalidActions, label=\"#invalid\", color=\"red\")\n",
    "    plt.hlines(np.min(numInvalidActions), 0, numEpisodes, colors='green', linestyles='dashed', label=f\"min @{np.min(numInvalidActions)}\",)\n",
    "    plt.legend(loc=1)\n",
    "\n",
    "    plt.subplot(1, 3, 2)\n",
    "    plt.plot(np.arange(numEpisodes), numCoinsCollected, label=\"#coins\", color=\"gold\")\n",
    "    plt.hlines(np.max(numCoinsCollected), 0, numEpisodes, colors='red', linestyles='dashed', label=f\"max @{np.max(numCoinsCollected)}\",)\n",
    "    plt.legend(loc=4)\n",
    "    \n",
    "    plt.subplot(1, 3, 3)\n",
    "    plt.plot(np.arange(numEpisodes), roundLength, label=\"#steps\", color=\"green\")\n",
    "    plt.hlines(np.min(roundLength), 0, numEpisodes, colors='green', linestyles='dashed', label=f\"min @{np.max(roundLength)}\",)\n",
    "    plt.legend(loc=4)\n",
    "\n",
    "    plt.show()"
   ]
  },
  {
   "cell_type": "code",
   "execution_count": 63,
   "metadata": {},
   "outputs": [],
   "source": [
    "def plotLatestHistory():\n",
    "    list_of_histories = glob.glob('histories/*.pt')\n",
    "    latest_history_name = max(list_of_histories, key=os.path.getctime)\n",
    "    plotHistory(os.path.basename(latest_history_name))"
   ]
  },
  {
   "cell_type": "code",
   "execution_count": null,
   "metadata": {},
   "outputs": [],
   "source": []
  }
 ],
 "metadata": {
  "kernelspec": {
   "display_name": "Python 3",
   "language": "python",
   "name": "python3"
  },
  "language_info": {
   "codemirror_mode": {
    "name": "ipython",
    "version": 3
   },
   "file_extension": ".py",
   "mimetype": "text/x-python",
   "name": "python",
   "nbconvert_exporter": "python",
   "pygments_lexer": "ipython3",
   "version": "3.8.5"
  }
 },
 "nbformat": 4,
 "nbformat_minor": 4
}
